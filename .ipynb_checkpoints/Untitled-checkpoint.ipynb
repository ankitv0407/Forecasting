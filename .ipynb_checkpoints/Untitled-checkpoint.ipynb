{
 "cells": [
  {
   "cell_type": "code",
   "execution_count": 1,
   "metadata": {},
   "outputs": [
    {
     "name": "stderr",
     "output_type": "stream",
     "text": [
      "Warning message:\n",
      "\"package 'fpp2' was built under R version 3.6.3\"Loading required package: ggplot2\n",
      "Warning message:\n",
      "\"package 'ggplot2' was built under R version 3.6.3\"Loading required package: forecast\n",
      "Warning message:\n",
      "\"package 'forecast' was built under R version 3.6.3\"Registered S3 method overwritten by 'quantmod':\n",
      "  method            from\n",
      "  as.zoo.data.frame zoo \n",
      "Loading required package: fma\n",
      "Warning message:\n",
      "\"package 'fma' was built under R version 3.6.3\"Loading required package: expsmooth\n",
      "Warning message:\n",
      "\"package 'expsmooth' was built under R version 3.6.3\""
     ]
    }
   ],
   "source": [
    "library(fpp2)"
   ]
  },
  {
   "cell_type": "code",
   "execution_count": 2,
   "metadata": {},
   "outputs": [],
   "source": [
    "call_vec = as.vector(calls)"
   ]
  },
  {
   "cell_type": "code",
   "execution_count": 3,
   "metadata": {},
   "outputs": [],
   "source": [
    "call_df = as.data.frame(call_vec)"
   ]
  },
  {
   "cell_type": "code",
   "execution_count": 4,
   "metadata": {},
   "outputs": [
    {
     "data": {
      "text/html": [
       "<table>\n",
       "<thead><tr><th scope=col>call_vec</th></tr></thead>\n",
       "<tbody>\n",
       "\t<tr><td>111</td></tr>\n",
       "\t<tr><td>113</td></tr>\n",
       "\t<tr><td> 76</td></tr>\n",
       "\t<tr><td> 82</td></tr>\n",
       "\t<tr><td> 91</td></tr>\n",
       "\t<tr><td> 87</td></tr>\n",
       "</tbody>\n",
       "</table>\n"
      ],
      "text/latex": [
       "\\begin{tabular}{r|l}\n",
       " call\\_vec\\\\\n",
       "\\hline\n",
       "\t 111\\\\\n",
       "\t 113\\\\\n",
       "\t  76\\\\\n",
       "\t  82\\\\\n",
       "\t  91\\\\\n",
       "\t  87\\\\\n",
       "\\end{tabular}\n"
      ],
      "text/markdown": [
       "\n",
       "| call_vec |\n",
       "|---|\n",
       "| 111 |\n",
       "| 113 |\n",
       "|  76 |\n",
       "|  82 |\n",
       "|  91 |\n",
       "|  87 |\n",
       "\n"
      ],
      "text/plain": [
       "  call_vec\n",
       "1 111     \n",
       "2 113     \n",
       "3  76     \n",
       "4  82     \n",
       "5  91     \n",
       "6  87     "
      ]
     },
     "metadata": {},
     "output_type": "display_data"
    }
   ],
   "source": [
    "head(call_df)"
   ]
  },
  {
   "cell_type": "code",
   "execution_count": null,
   "metadata": {},
   "outputs": [],
   "source": [
    "write.csv(call_df, \"call_df.csv\", row.names = F)"
   ]
  }
 ],
 "metadata": {
  "kernelspec": {
   "display_name": "R",
   "language": "R",
   "name": "ir"
  },
  "language_info": {
   "codemirror_mode": "r",
   "file_extension": ".r",
   "mimetype": "text/x-r-source",
   "name": "R",
   "pygments_lexer": "r",
   "version": "3.6.1"
  }
 },
 "nbformat": 4,
 "nbformat_minor": 2
}
